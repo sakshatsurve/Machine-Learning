{
 "cells": [
  {
   "cell_type": "code",
   "execution_count": 1,
   "metadata": {},
   "outputs": [
    {
     "name": "stdout",
     "output_type": "stream",
     "text": [
      "C:\\Users\\jogle\\Anaconda3\\python.exe\n",
      "C:\\Users\\jogle\\Anaconda3;C:\\Users\\jogle\\Anaconda3\\Library\\mingw-w64\\bin;C:\\Users\\jogle\\Anaconda3\\Library\\usr\\bin;C:\\Users\\jogle\\Anaconda3\\Library\\bin;C:\\Users\\jogle\\Anaconda3\\Scripts;C:\\Program Files (x86)\\Common Files\\Oracle\\Java\\javapath;C:\\Program Files (x86)\\Intel\\Intel(R) Management Engine Components\\iCLS\\;C:\\Program Files\\Intel\\Intel(R) Management Engine Components\\iCLS\\;C:\\Windows\\system32;C:\\Windows;C:\\Windows\\System32\\Wbem;C:\\Windows\\System32\\WindowsPowerShell\\v1.0\\;C:\\Program Files (x86)\\Intel\\Intel(R) Management Engine Components\\DAL;C:\\Program Files\\Intel\\Intel(R) Management Engine Components\\DAL;C:\\Program Files (x86)\\Intel\\Intel(R) Management Engine Components\\IPT;C:\\Program Files\\Intel\\Intel(R) Management Engine Components\\IPT;C:\\Program Files (x86)\\NVIDIA Corporation\\PhysX\\Common;C:\\Program Files\\Intel\\WiFi\\bin\\;C:\\Program Files\\Common Files\\Intel\\WirelessCommon\\;C:\\WINDOWS\\system32;C:\\WINDOWS;C:\\WINDOWS\\System32\\Wbem;C:\\WINDOWS\\System32\\WindowsPowerShell\\v1.0\\;C:\\WINDOWS\\System32\\OpenSSH\\;C:\\Program Files\\MATLAB\\R2018b\\bin;C:\\Android;C:\\Program Files\\Java\\jdk1.8.0_201\\bin;C:\\Program Files (x86)\\scala\\bin;\"C:\\Users\\jogle\\Anaconda3;C:\\Users\\jogle\\Anaconda3\\Library\\mingw-w64\\bin;C:\\Users\\jogle\\Anaconda3\\Library\\usr\\bin;C:\\Users\\jogle\\Anaconda3\\Library\\bin;C:\\Users\\jogle\\Anaconda3\\Scripts\";C:\\Users\\jogle\\AppData\\Local\\Programs\\Python\\Python37\\Scripts\\;C:\\Users\\jogle\\AppData\\Local\\Programs\\Python\\Python37\\;C:\\Users\\jogle\\AppData\\Local\\Microsoft\\WindowsApps;C:\\Users\\jogle\\AppData\\Local\\GitHubDesktop\\bin;C:\\Program Files\\Java\\jdk1.8.0_201\\bin;;C:\\Users\\jogle\\AppData\\Local\\Microsoft\\WindowsApps\n"
     ]
    }
   ],
   "source": [
    "import sys\n",
    "import os\n",
    "print(sys.executable)\n",
    "print(os.environ['PATH'])\n",
    "\n",
    "import numpy as np\n",
    "import pandas as pd\n",
    "import requests\n",
    "import bs4\n",
    "import fastnumbers\n",
    "import csv\n",
    "import matplotlib.pyplot as plt\n",
    "import seaborn as sns\n",
    "import json\n",
    "#from tidylib import tidy_document # for tidying incorrect html\n",
    "\n",
    "sns.set_style('whitegrid')\n",
    "%matplotlib inline\n",
    "from IPython.core.interactiveshell import InteractiveShell\n",
    "InteractiveShell.ast_node_interactivity = \"all\""
   ]
  },
  {
   "cell_type": "code",
   "execution_count": 2,
   "metadata": {},
   "outputs": [
    {
     "name": "stdout",
     "output_type": "stream",
     "text": [
      "['MMM', 'ADBE', 'ALL', 'AMZN', 'AXP', 'AAPL', 'FB', 'JPM', 'V', 'XLNX']\n"
     ]
    },
    {
     "data": {
      "text/plain": [
       "'https://www.worldtradingdata.com/api/v1/stock?symbol=MMM,ADBE,ALL,AXP&api_token=p4nU2OENDDJfkKP6TePnfKAgI4W5sz2GQmsVBehWiAjwLN6srpgbqp8lfiaV'"
      ]
     },
     "execution_count": 2,
     "metadata": {},
     "output_type": "execute_result"
    },
    {
     "data": {
      "text/plain": [
       "'https://www.worldtradingdata.com/api/v1/stock?symbol=AAPL,FB,JPM,V,XLNX&api_token=p4nU2OENDDJfkKP6TePnfKAgI4W5sz2GQmsVBehWiAjwLN6srpgbqp8lfiaV'"
      ]
     },
     "execution_count": 2,
     "metadata": {},
     "output_type": "execute_result"
    }
   ],
   "source": [
    "############ To get Ticker List ################\n",
    "\n",
    "data = pd.read_html('https://en.wikipedia.org/wiki/List_of_S%26P_500_companies')\n",
    "table = data[0]\n",
    "sliced_table = table[1:]\n",
    "header = table.iloc[0]\n",
    "corrected_table = sliced_table.rename(columns=header)\n",
    "company_List = ['3M Company','Adobe Systems Inc','Allstate Corp','Amazon.com Inc.','Apple Inc.','American Express Co','JPMorgan Chase & Co.','Visa Inc.','Xilinx','Facebook, Inc.']\n",
    "corrected_table = corrected_table[corrected_table.Security.isin(company_List)]\n",
    "#print(len(company_List))\n",
    "#corrected_table\n",
    "tickers = corrected_table['Symbol'].tolist()\n",
    "print (tickers)\n",
    "s,s2 = 'https://www.worldtradingdata.com/api/v1/stock?symbol=','https://www.worldtradingdata.com/api/v1/stock?symbol='\n",
    "for i in range(0,len(tickers)-7):\n",
    "    s = s + tickers[i] + ','\n",
    "s = s + tickers[len(tickers)-6] + '&api_token=p4nU2OENDDJfkKP6TePnfKAgI4W5sz2GQmsVBehWiAjwLN6srpgbqp8lfiaV'\n",
    "s\n",
    "for i in range(len(tickers)-5,len(tickers)-1):\n",
    "    s2 = s2 + tickers[i] + ','\n",
    "s2 = s2 + tickers[-1] + '&api_token=p4nU2OENDDJfkKP6TePnfKAgI4W5sz2GQmsVBehWiAjwLN6srpgbqp8lfiaV'\n",
    "s2"
   ]
  },
  {
   "cell_type": "code",
   "execution_count": 3,
   "metadata": {},
   "outputs": [
    {
     "data": {
      "text/plain": [
       "b'{\"symbols_requested\":4,\"symbols_returned\":4,\"data\":[{\"symbol\":\"ADBE\",\"name\":\"Adobe Inc.\",\"currency\":\"USD\",\"price\":\"275.45\",\"price_open\":\"279.22\",\"day_high\":\"280.17\",\"day_low\":\"275.25\",\"52_week_high\":\"280.17\",\"52_week_low\":\"204.95\",\"day_change\":\"-3.04\",\"change_pct\":\"-1.09\",\"close_yesterday\":\"278.49\",\"market_cap\":\"134406111232\",\"volume\":\"1632885\",\"volume_avg\":\"1929900\",\"shares\":\"487951008\",\"stock_exchange_long\":\"NASDAQ Stock Exchange\",\"stock_exchange_short\":\"NASDAQ\",\"timezone\":\"EDT\",\"timezone_name\":\"America/New_York\",\"gmt_offset\":\"-14400\",\"last_trade_time\":\"2019-04-24 16:00:00\"},{\"symbol\":\"ALL\",\"name\":\"The Allstate Corporation\",\"currency\":\"USD\",\"price\":\"96.41\",\"price_open\":\"97.08\",\"day_high\":\"97.44\",\"day_low\":\"96.38\",\"52_week_high\":\"102.73\",\"52_week_low\":\"77.00\",\"day_change\":\"-0.88\",\"change_pct\":\"-0.90\",\"close_yesterday\":\"97.29\",\"market_cap\":\"32102408192\",\"volume\":\"1410055\",\"volume_avg\":\"1561316\",\"shares\":\"332977984\",\"stock_exchange_long\":\"New York Stock Exchange\",\"stock_exchange_short\":\"NYSE\",\"timezone\":\"EDT\",\"timezone_name\":\"America/New_York\",\"gmt_offset\":\"-14400\",\"last_trade_time\":\"2019-04-24 16:00:17\"},{\"symbol\":\"AXP\",\"name\":\"American Express Company\",\"currency\":\"USD\",\"price\":\"114.02\",\"price_open\":\"113.76\",\"day_high\":\"114.36\",\"day_low\":\"113.42\",\"52_week_high\":\"114.55\",\"52_week_low\":\"89.05\",\"day_change\":\"0.05\",\"change_pct\":\"0.04\",\"close_yesterday\":\"113.97\",\"market_cap\":\"95434735616\",\"volume\":\"2081727\",\"volume_avg\":\"3552050\",\"shares\":\"837000000\",\"stock_exchange_long\":\"New York Stock Exchange\",\"stock_exchange_short\":\"NYSE\",\"timezone\":\"EDT\",\"timezone_name\":\"America/New_York\",\"gmt_offset\":\"-14400\",\"last_trade_time\":\"2019-04-24 16:02:13\"},{\"symbol\":\"MMM\",\"name\":\"3M Company\",\"currency\":\"USD\",\"price\":\"219.08\",\"price_open\":\"219.00\",\"day_high\":\"219.75\",\"day_low\":\"218.10\",\"52_week_high\":\"219.75\",\"52_week_low\":\"176.87\",\"day_change\":\"-0.42\",\"change_pct\":\"-0.19\",\"close_yesterday\":\"219.50\",\"market_cap\":\"126167523328\",\"volume\":\"1924243\",\"volume_avg\":\"1625983\",\"shares\":\"575897024\",\"stock_exchange_long\":\"New York Stock Exchange\",\"stock_exchange_short\":\"NYSE\",\"timezone\":\"EDT\",\"timezone_name\":\"America/New_York\",\"gmt_offset\":\"-14400\",\"last_trade_time\":\"2019-04-24 16:03:38\"}]}'"
      ]
     },
     "execution_count": 3,
     "metadata": {},
     "output_type": "execute_result"
    },
    {
     "data": {
      "text/plain": [
       "b'{\"symbols_requested\":5,\"symbols_returned\":5,\"data\":[{\"symbol\":\"AAPL\",\"name\":\"Apple Inc.\",\"currency\":\"USD\",\"price\":\"207.16\",\"price_open\":\"207.36\",\"day_high\":\"208.48\",\"day_low\":\"207.05\",\"52_week_high\":\"233.47\",\"52_week_low\":\"142.00\",\"day_change\":\"-0.32\",\"change_pct\":\"-0.15\",\"close_yesterday\":\"207.48\",\"market_cap\":\"976817422336\",\"volume\":\"15166983\",\"volume_avg\":\"23180683\",\"shares\":\"4715279872\",\"stock_exchange_long\":\"NASDAQ Stock Exchange\",\"stock_exchange_short\":\"NASDAQ\",\"timezone\":\"EDT\",\"timezone_name\":\"America/New_York\",\"gmt_offset\":\"-14400\",\"last_trade_time\":\"2019-04-24 16:00:01\"},{\"symbol\":\"FB\",\"name\":\"Facebook, Inc.\",\"currency\":\"USD\",\"price\":\"182.58\",\"price_open\":\"184.49\",\"day_high\":\"185.14\",\"day_low\":\"181.65\",\"52_week_high\":\"218.62\",\"52_week_low\":\"123.02\",\"day_change\":\"-1.20\",\"change_pct\":\"-0.65\",\"close_yesterday\":\"183.78\",\"market_cap\":\"521377284096\",\"volume\":\"23758514\",\"volume_avg\":\"12786333\",\"shares\":\"2403460096\",\"stock_exchange_long\":\"NASDAQ Stock Exchange\",\"stock_exchange_short\":\"NASDAQ\",\"timezone\":\"EDT\",\"timezone_name\":\"America/New_York\",\"gmt_offset\":\"-14400\",\"last_trade_time\":\"2019-04-24 16:00:01\"},{\"symbol\":\"JPM\",\"name\":\"JPMorgan Chase & Co.\",\"currency\":\"USD\",\"price\":\"113.55\",\"price_open\":\"113.26\",\"day_high\":\"114.15\",\"day_low\":\"112.81\",\"52_week_high\":\"119.24\",\"52_week_low\":\"91.11\",\"day_change\":\"-0.19\",\"change_pct\":\"-0.17\",\"close_yesterday\":\"113.74\",\"market_cap\":\"368741154816\",\"volume\":\"6981407\",\"volume_avg\":\"12368300\",\"shares\":\"3247389952\",\"stock_exchange_long\":\"New York Stock Exchange\",\"stock_exchange_short\":\"NYSE\",\"timezone\":\"EDT\",\"timezone_name\":\"America/New_York\",\"gmt_offset\":\"-14400\",\"last_trade_time\":\"2019-04-24 16:00:12\"},{\"symbol\":\"V\",\"name\":\"Visa Inc.\",\"currency\":\"USD\",\"price\":\"161.49\",\"price_open\":\"161.75\",\"day_high\":\"162.03\",\"day_low\":\"160.65\",\"52_week_high\":\"162.03\",\"52_week_low\":\"119.37\",\"day_change\":\"-0.17\",\"change_pct\":\"-0.11\",\"close_yesterday\":\"161.66\",\"market_cap\":\"354803253248\",\"volume\":\"6808586\",\"volume_avg\":\"6292633\",\"shares\":\"1750179968\",\"stock_exchange_long\":\"New York Stock Exchange\",\"stock_exchange_short\":\"NYSE\",\"timezone\":\"EDT\",\"timezone_name\":\"America/New_York\",\"gmt_offset\":\"-14400\",\"last_trade_time\":\"2019-04-24 16:02:25\"},{\"symbol\":\"XLNX\",\"name\":\"Xilinx, Inc.\",\"currency\":\"USD\",\"price\":\"139.72\",\"price_open\":\"137.45\",\"day_high\":\"141.60\",\"day_low\":\"136.81\",\"52_week_high\":\"141.60\",\"52_week_low\":\"62.54\",\"day_change\":\"2.57\",\"change_pct\":\"1.87\",\"close_yesterday\":\"137.15\",\"market_cap\":\"35372072960\",\"volume\":\"6304911\",\"volume_avg\":\"2964850\",\"shares\":\"253164000\",\"stock_exchange_long\":\"NASDAQ Stock Exchange\",\"stock_exchange_short\":\"NASDAQ\",\"timezone\":\"EDT\",\"timezone_name\":\"America/New_York\",\"gmt_offset\":\"-14400\",\"last_trade_time\":\"2019-04-24 16:00:01\"}]}'"
      ]
     },
     "execution_count": 3,
     "metadata": {},
     "output_type": "execute_result"
    }
   ],
   "source": [
    "################# Call get method to take response from URL ###################\n",
    "\n",
    "#response = requests.get(\"https://www.worldtradingdata.com/api/v1/stock?symbol=AAPL,MSFT,HSBA.L&api_token=demo\", timeout=240)\n",
    "response = requests.get(s, timeout=240)\n",
    "response2 = requests.get(s2, timeout=240)\n",
    "#response.status_code\n",
    "response.content\n",
    "response2.content"
   ]
  },
  {
   "cell_type": "code",
   "execution_count": 4,
   "metadata": {
    "scrolled": false
   },
   "outputs": [
    {
     "data": {
      "text/plain": [
       "[{'symbol': 'ADBE',\n",
       "  'name': 'Adobe Inc.',\n",
       "  'currency': 'USD',\n",
       "  'price': '275.45',\n",
       "  'price_open': '279.22',\n",
       "  'day_high': '280.17',\n",
       "  'day_low': '275.25',\n",
       "  '52_week_high': '280.17',\n",
       "  '52_week_low': '204.95',\n",
       "  'day_change': '-3.04',\n",
       "  'change_pct': '-1.09',\n",
       "  'close_yesterday': '278.49',\n",
       "  'market_cap': '134406111232',\n",
       "  'volume': '1632885',\n",
       "  'volume_avg': '1929900',\n",
       "  'shares': '487951008',\n",
       "  'stock_exchange_long': 'NASDAQ Stock Exchange',\n",
       "  'stock_exchange_short': 'NASDAQ',\n",
       "  'timezone': 'EDT',\n",
       "  'timezone_name': 'America/New_York',\n",
       "  'gmt_offset': '-14400',\n",
       "  'last_trade_time': '2019-04-24 16:00:00'},\n",
       " {'symbol': 'ALL',\n",
       "  'name': 'The Allstate Corporation',\n",
       "  'currency': 'USD',\n",
       "  'price': '96.41',\n",
       "  'price_open': '97.08',\n",
       "  'day_high': '97.44',\n",
       "  'day_low': '96.38',\n",
       "  '52_week_high': '102.73',\n",
       "  '52_week_low': '77.00',\n",
       "  'day_change': '-0.88',\n",
       "  'change_pct': '-0.90',\n",
       "  'close_yesterday': '97.29',\n",
       "  'market_cap': '32102408192',\n",
       "  'volume': '1410055',\n",
       "  'volume_avg': '1561316',\n",
       "  'shares': '332977984',\n",
       "  'stock_exchange_long': 'New York Stock Exchange',\n",
       "  'stock_exchange_short': 'NYSE',\n",
       "  'timezone': 'EDT',\n",
       "  'timezone_name': 'America/New_York',\n",
       "  'gmt_offset': '-14400',\n",
       "  'last_trade_time': '2019-04-24 16:00:17'},\n",
       " {'symbol': 'AXP',\n",
       "  'name': 'American Express Company',\n",
       "  'currency': 'USD',\n",
       "  'price': '114.02',\n",
       "  'price_open': '113.76',\n",
       "  'day_high': '114.36',\n",
       "  'day_low': '113.42',\n",
       "  '52_week_high': '114.55',\n",
       "  '52_week_low': '89.05',\n",
       "  'day_change': '0.05',\n",
       "  'change_pct': '0.04',\n",
       "  'close_yesterday': '113.97',\n",
       "  'market_cap': '95434735616',\n",
       "  'volume': '2081727',\n",
       "  'volume_avg': '3552050',\n",
       "  'shares': '837000000',\n",
       "  'stock_exchange_long': 'New York Stock Exchange',\n",
       "  'stock_exchange_short': 'NYSE',\n",
       "  'timezone': 'EDT',\n",
       "  'timezone_name': 'America/New_York',\n",
       "  'gmt_offset': '-14400',\n",
       "  'last_trade_time': '2019-04-24 16:02:13'},\n",
       " {'symbol': 'MMM',\n",
       "  'name': '3M Company',\n",
       "  'currency': 'USD',\n",
       "  'price': '219.08',\n",
       "  'price_open': '219.00',\n",
       "  'day_high': '219.75',\n",
       "  'day_low': '218.10',\n",
       "  '52_week_high': '219.75',\n",
       "  '52_week_low': '176.87',\n",
       "  'day_change': '-0.42',\n",
       "  'change_pct': '-0.19',\n",
       "  'close_yesterday': '219.50',\n",
       "  'market_cap': '126167523328',\n",
       "  'volume': '1924243',\n",
       "  'volume_avg': '1625983',\n",
       "  'shares': '575897024',\n",
       "  'stock_exchange_long': 'New York Stock Exchange',\n",
       "  'stock_exchange_short': 'NYSE',\n",
       "  'timezone': 'EDT',\n",
       "  'timezone_name': 'America/New_York',\n",
       "  'gmt_offset': '-14400',\n",
       "  'last_trade_time': '2019-04-24 16:03:38'}]"
      ]
     },
     "execution_count": 4,
     "metadata": {},
     "output_type": "execute_result"
    },
    {
     "data": {
      "text/plain": [
       "[{'symbol': 'AAPL',\n",
       "  'name': 'Apple Inc.',\n",
       "  'currency': 'USD',\n",
       "  'price': '207.16',\n",
       "  'price_open': '207.36',\n",
       "  'day_high': '208.48',\n",
       "  'day_low': '207.05',\n",
       "  '52_week_high': '233.47',\n",
       "  '52_week_low': '142.00',\n",
       "  'day_change': '-0.32',\n",
       "  'change_pct': '-0.15',\n",
       "  'close_yesterday': '207.48',\n",
       "  'market_cap': '976817422336',\n",
       "  'volume': '15166983',\n",
       "  'volume_avg': '23180683',\n",
       "  'shares': '4715279872',\n",
       "  'stock_exchange_long': 'NASDAQ Stock Exchange',\n",
       "  'stock_exchange_short': 'NASDAQ',\n",
       "  'timezone': 'EDT',\n",
       "  'timezone_name': 'America/New_York',\n",
       "  'gmt_offset': '-14400',\n",
       "  'last_trade_time': '2019-04-24 16:00:01'},\n",
       " {'symbol': 'FB',\n",
       "  'name': 'Facebook, Inc.',\n",
       "  'currency': 'USD',\n",
       "  'price': '182.58',\n",
       "  'price_open': '184.49',\n",
       "  'day_high': '185.14',\n",
       "  'day_low': '181.65',\n",
       "  '52_week_high': '218.62',\n",
       "  '52_week_low': '123.02',\n",
       "  'day_change': '-1.20',\n",
       "  'change_pct': '-0.65',\n",
       "  'close_yesterday': '183.78',\n",
       "  'market_cap': '521377284096',\n",
       "  'volume': '23758514',\n",
       "  'volume_avg': '12786333',\n",
       "  'shares': '2403460096',\n",
       "  'stock_exchange_long': 'NASDAQ Stock Exchange',\n",
       "  'stock_exchange_short': 'NASDAQ',\n",
       "  'timezone': 'EDT',\n",
       "  'timezone_name': 'America/New_York',\n",
       "  'gmt_offset': '-14400',\n",
       "  'last_trade_time': '2019-04-24 16:00:01'},\n",
       " {'symbol': 'JPM',\n",
       "  'name': 'JPMorgan Chase & Co.',\n",
       "  'currency': 'USD',\n",
       "  'price': '113.55',\n",
       "  'price_open': '113.26',\n",
       "  'day_high': '114.15',\n",
       "  'day_low': '112.81',\n",
       "  '52_week_high': '119.24',\n",
       "  '52_week_low': '91.11',\n",
       "  'day_change': '-0.19',\n",
       "  'change_pct': '-0.17',\n",
       "  'close_yesterday': '113.74',\n",
       "  'market_cap': '368741154816',\n",
       "  'volume': '6981407',\n",
       "  'volume_avg': '12368300',\n",
       "  'shares': '3247389952',\n",
       "  'stock_exchange_long': 'New York Stock Exchange',\n",
       "  'stock_exchange_short': 'NYSE',\n",
       "  'timezone': 'EDT',\n",
       "  'timezone_name': 'America/New_York',\n",
       "  'gmt_offset': '-14400',\n",
       "  'last_trade_time': '2019-04-24 16:00:12'},\n",
       " {'symbol': 'V',\n",
       "  'name': 'Visa Inc.',\n",
       "  'currency': 'USD',\n",
       "  'price': '161.49',\n",
       "  'price_open': '161.75',\n",
       "  'day_high': '162.03',\n",
       "  'day_low': '160.65',\n",
       "  '52_week_high': '162.03',\n",
       "  '52_week_low': '119.37',\n",
       "  'day_change': '-0.17',\n",
       "  'change_pct': '-0.11',\n",
       "  'close_yesterday': '161.66',\n",
       "  'market_cap': '354803253248',\n",
       "  'volume': '6808586',\n",
       "  'volume_avg': '6292633',\n",
       "  'shares': '1750179968',\n",
       "  'stock_exchange_long': 'New York Stock Exchange',\n",
       "  'stock_exchange_short': 'NYSE',\n",
       "  'timezone': 'EDT',\n",
       "  'timezone_name': 'America/New_York',\n",
       "  'gmt_offset': '-14400',\n",
       "  'last_trade_time': '2019-04-24 16:02:25'},\n",
       " {'symbol': 'XLNX',\n",
       "  'name': 'Xilinx, Inc.',\n",
       "  'currency': 'USD',\n",
       "  'price': '139.72',\n",
       "  'price_open': '137.45',\n",
       "  'day_high': '141.60',\n",
       "  'day_low': '136.81',\n",
       "  '52_week_high': '141.60',\n",
       "  '52_week_low': '62.54',\n",
       "  'day_change': '2.57',\n",
       "  'change_pct': '1.87',\n",
       "  'close_yesterday': '137.15',\n",
       "  'market_cap': '35372072960',\n",
       "  'volume': '6304911',\n",
       "  'volume_avg': '2964850',\n",
       "  'shares': '253164000',\n",
       "  'stock_exchange_long': 'NASDAQ Stock Exchange',\n",
       "  'stock_exchange_short': 'NASDAQ',\n",
       "  'timezone': 'EDT',\n",
       "  'timezone_name': 'America/New_York',\n",
       "  'gmt_offset': '-14400',\n",
       "  'last_trade_time': '2019-04-24 16:00:01'}]"
      ]
     },
     "execution_count": 4,
     "metadata": {},
     "output_type": "execute_result"
    }
   ],
   "source": [
    "############### Convert the content to json ################\n",
    "content = response.json()\n",
    "content2 = response2.json()\n",
    "#content.keys()\n",
    "#content = content['data']\n",
    "#type(content)\n",
    "#content = json.dumps(content)\n",
    "keys = content['data'][0].keys()\n",
    "keys2 = content2['data'][0].keys()\n",
    "#keys\n",
    "content['data']\n",
    "content2['data']"
   ]
  },
  {
   "cell_type": "code",
   "execution_count": 6,
   "metadata": {},
   "outputs": [],
   "source": [
    "### Witing JSON data into CSV ##################\n",
    "#csvwriter = csv.writer(first_csv)\n",
    "with open('D:\\sum\\Its Study Time\\Academic\\M.S\\Spring_2019\\Machine Learning\\Project\\Sumedh_Work\\\\first_csv.csv', 'a', newline='') as first_csv:\n",
    "    csvwriter = csv.DictWriter(first_csv, keys,extrasaction='ignore')\n",
    "    #csvwriter.writeheader()\n",
    "    csvwriter.writerows(content['data'])\n",
    "    csvwriter.writerows(content2['data'])"
   ]
  },
  {
   "cell_type": "code",
   "execution_count": 7,
   "metadata": {},
   "outputs": [
    {
     "data": {
      "text/plain": [
       "(12959, 22)"
      ]
     },
     "execution_count": 7,
     "metadata": {},
     "output_type": "execute_result"
    }
   ],
   "source": [
    "############# Play using pandas ################\n",
    "data = pd.read_csv('D:\\sum\\Its Study Time\\Academic\\M.S\\Spring_2019\\Machine Learning\\Project\\Sumedh_Work\\\\first_csv.csv')\n",
    "#data.head\n",
    "#data.drop()\n",
    "data.shape"
   ]
  },
  {
   "cell_type": "code",
   "execution_count": null,
   "metadata": {},
   "outputs": [],
   "source": []
  }
 ],
 "metadata": {
  "kernelspec": {
   "display_name": "Python 3",
   "language": "python",
   "name": "python3"
  },
  "language_info": {
   "codemirror_mode": {
    "name": "ipython",
    "version": 3
   },
   "file_extension": ".py",
   "mimetype": "text/x-python",
   "name": "python",
   "nbconvert_exporter": "python",
   "pygments_lexer": "ipython3",
   "version": "3.7.1"
  }
 },
 "nbformat": 4,
 "nbformat_minor": 2
}
